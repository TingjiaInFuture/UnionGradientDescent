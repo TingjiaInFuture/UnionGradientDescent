{
  "cells": [
    {
      "cell_type": "code",
      "execution_count": 2,
      "metadata": {
        "colab": {
          "base_uri": "https://localhost:8080/",
          "height": 943
        },
        "id": "7agS87TsZ347",
        "outputId": "f047c206-cb54-4779-bef4-1b6102b52a34"
      },
      "outputs": [
        {
          "output_type": "stream",
          "name": "stdout",
          "text": [
            "x_train shape: (60000, 28, 28, 1)\n",
            "60000 train samples\n",
            "10000 test samples\n"
          ]
        },
        {
          "output_type": "display_data",
          "data": {
            "text/plain": [
              "\u001b[1mModel: \"sequential_1\"\u001b[0m\n"
            ],
            "text/html": [
              "<pre style=\"white-space:pre;overflow-x:auto;line-height:normal;font-family:Menlo,'DejaVu Sans Mono',consolas,'Courier New',monospace\"><span style=\"font-weight: bold\">Model: \"sequential_1\"</span>\n",
              "</pre>\n"
            ]
          },
          "metadata": {}
        },
        {
          "output_type": "display_data",
          "data": {
            "text/plain": [
              "┏━━━━━━━━━━━━━━━━━━━━━━━━━━━━━━━━━━━━━━┳━━━━━━━━━━━━━━━━━━━━━━━━━━━━━┳━━━━━━━━━━━━━━━━━┓\n",
              "┃\u001b[1m \u001b[0m\u001b[1mLayer (type)                        \u001b[0m\u001b[1m \u001b[0m┃\u001b[1m \u001b[0m\u001b[1mOutput Shape               \u001b[0m\u001b[1m \u001b[0m┃\u001b[1m \u001b[0m\u001b[1m        Param #\u001b[0m\u001b[1m \u001b[0m┃\n",
              "┡━━━━━━━━━━━━━━━━━━━━━━━━━━━━━━━━━━━━━━╇━━━━━━━━━━━━━━━━━━━━━━━━━━━━━╇━━━━━━━━━━━━━━━━━┩\n",
              "│ conv2d_2 (\u001b[38;5;33mConv2D\u001b[0m)                    │ (\u001b[38;5;45mNone\u001b[0m, \u001b[38;5;34m26\u001b[0m, \u001b[38;5;34m26\u001b[0m, \u001b[38;5;34m32\u001b[0m)          │             \u001b[38;5;34m320\u001b[0m │\n",
              "├──────────────────────────────────────┼─────────────────────────────┼─────────────────┤\n",
              "│ max_pooling2d_2 (\u001b[38;5;33mMaxPooling2D\u001b[0m)       │ (\u001b[38;5;45mNone\u001b[0m, \u001b[38;5;34m13\u001b[0m, \u001b[38;5;34m13\u001b[0m, \u001b[38;5;34m32\u001b[0m)          │               \u001b[38;5;34m0\u001b[0m │\n",
              "├──────────────────────────────────────┼─────────────────────────────┼─────────────────┤\n",
              "│ conv2d_3 (\u001b[38;5;33mConv2D\u001b[0m)                    │ (\u001b[38;5;45mNone\u001b[0m, \u001b[38;5;34m11\u001b[0m, \u001b[38;5;34m11\u001b[0m, \u001b[38;5;34m64\u001b[0m)          │          \u001b[38;5;34m18,496\u001b[0m │\n",
              "├──────────────────────────────────────┼─────────────────────────────┼─────────────────┤\n",
              "│ max_pooling2d_3 (\u001b[38;5;33mMaxPooling2D\u001b[0m)       │ (\u001b[38;5;45mNone\u001b[0m, \u001b[38;5;34m5\u001b[0m, \u001b[38;5;34m5\u001b[0m, \u001b[38;5;34m64\u001b[0m)            │               \u001b[38;5;34m0\u001b[0m │\n",
              "├──────────────────────────────────────┼─────────────────────────────┼─────────────────┤\n",
              "│ flatten_1 (\u001b[38;5;33mFlatten\u001b[0m)                  │ (\u001b[38;5;45mNone\u001b[0m, \u001b[38;5;34m1600\u001b[0m)                │               \u001b[38;5;34m0\u001b[0m │\n",
              "├──────────────────────────────────────┼─────────────────────────────┼─────────────────┤\n",
              "│ dropout_1 (\u001b[38;5;33mDropout\u001b[0m)                  │ (\u001b[38;5;45mNone\u001b[0m, \u001b[38;5;34m1600\u001b[0m)                │               \u001b[38;5;34m0\u001b[0m │\n",
              "├──────────────────────────────────────┼─────────────────────────────┼─────────────────┤\n",
              "│ dense_1 (\u001b[38;5;33mDense\u001b[0m)                      │ (\u001b[38;5;45mNone\u001b[0m, \u001b[38;5;34m10\u001b[0m)                  │          \u001b[38;5;34m16,010\u001b[0m │\n",
              "└──────────────────────────────────────┴─────────────────────────────┴─────────────────┘\n"
            ],
            "text/html": [
              "<pre style=\"white-space:pre;overflow-x:auto;line-height:normal;font-family:Menlo,'DejaVu Sans Mono',consolas,'Courier New',monospace\">┏━━━━━━━━━━━━━━━━━━━━━━━━━━━━━━━━━━━━━━┳━━━━━━━━━━━━━━━━━━━━━━━━━━━━━┳━━━━━━━━━━━━━━━━━┓\n",
              "┃<span style=\"font-weight: bold\"> Layer (type)                         </span>┃<span style=\"font-weight: bold\"> Output Shape                </span>┃<span style=\"font-weight: bold\">         Param # </span>┃\n",
              "┡━━━━━━━━━━━━━━━━━━━━━━━━━━━━━━━━━━━━━━╇━━━━━━━━━━━━━━━━━━━━━━━━━━━━━╇━━━━━━━━━━━━━━━━━┩\n",
              "│ conv2d_2 (<span style=\"color: #0087ff; text-decoration-color: #0087ff\">Conv2D</span>)                    │ (<span style=\"color: #00d7ff; text-decoration-color: #00d7ff\">None</span>, <span style=\"color: #00af00; text-decoration-color: #00af00\">26</span>, <span style=\"color: #00af00; text-decoration-color: #00af00\">26</span>, <span style=\"color: #00af00; text-decoration-color: #00af00\">32</span>)          │             <span style=\"color: #00af00; text-decoration-color: #00af00\">320</span> │\n",
              "├──────────────────────────────────────┼─────────────────────────────┼─────────────────┤\n",
              "│ max_pooling2d_2 (<span style=\"color: #0087ff; text-decoration-color: #0087ff\">MaxPooling2D</span>)       │ (<span style=\"color: #00d7ff; text-decoration-color: #00d7ff\">None</span>, <span style=\"color: #00af00; text-decoration-color: #00af00\">13</span>, <span style=\"color: #00af00; text-decoration-color: #00af00\">13</span>, <span style=\"color: #00af00; text-decoration-color: #00af00\">32</span>)          │               <span style=\"color: #00af00; text-decoration-color: #00af00\">0</span> │\n",
              "├──────────────────────────────────────┼─────────────────────────────┼─────────────────┤\n",
              "│ conv2d_3 (<span style=\"color: #0087ff; text-decoration-color: #0087ff\">Conv2D</span>)                    │ (<span style=\"color: #00d7ff; text-decoration-color: #00d7ff\">None</span>, <span style=\"color: #00af00; text-decoration-color: #00af00\">11</span>, <span style=\"color: #00af00; text-decoration-color: #00af00\">11</span>, <span style=\"color: #00af00; text-decoration-color: #00af00\">64</span>)          │          <span style=\"color: #00af00; text-decoration-color: #00af00\">18,496</span> │\n",
              "├──────────────────────────────────────┼─────────────────────────────┼─────────────────┤\n",
              "│ max_pooling2d_3 (<span style=\"color: #0087ff; text-decoration-color: #0087ff\">MaxPooling2D</span>)       │ (<span style=\"color: #00d7ff; text-decoration-color: #00d7ff\">None</span>, <span style=\"color: #00af00; text-decoration-color: #00af00\">5</span>, <span style=\"color: #00af00; text-decoration-color: #00af00\">5</span>, <span style=\"color: #00af00; text-decoration-color: #00af00\">64</span>)            │               <span style=\"color: #00af00; text-decoration-color: #00af00\">0</span> │\n",
              "├──────────────────────────────────────┼─────────────────────────────┼─────────────────┤\n",
              "│ flatten_1 (<span style=\"color: #0087ff; text-decoration-color: #0087ff\">Flatten</span>)                  │ (<span style=\"color: #00d7ff; text-decoration-color: #00d7ff\">None</span>, <span style=\"color: #00af00; text-decoration-color: #00af00\">1600</span>)                │               <span style=\"color: #00af00; text-decoration-color: #00af00\">0</span> │\n",
              "├──────────────────────────────────────┼─────────────────────────────┼─────────────────┤\n",
              "│ dropout_1 (<span style=\"color: #0087ff; text-decoration-color: #0087ff\">Dropout</span>)                  │ (<span style=\"color: #00d7ff; text-decoration-color: #00d7ff\">None</span>, <span style=\"color: #00af00; text-decoration-color: #00af00\">1600</span>)                │               <span style=\"color: #00af00; text-decoration-color: #00af00\">0</span> │\n",
              "├──────────────────────────────────────┼─────────────────────────────┼─────────────────┤\n",
              "│ dense_1 (<span style=\"color: #0087ff; text-decoration-color: #0087ff\">Dense</span>)                      │ (<span style=\"color: #00d7ff; text-decoration-color: #00d7ff\">None</span>, <span style=\"color: #00af00; text-decoration-color: #00af00\">10</span>)                  │          <span style=\"color: #00af00; text-decoration-color: #00af00\">16,010</span> │\n",
              "└──────────────────────────────────────┴─────────────────────────────┴─────────────────┘\n",
              "</pre>\n"
            ]
          },
          "metadata": {}
        },
        {
          "output_type": "display_data",
          "data": {
            "text/plain": [
              "\u001b[1m Total params: \u001b[0m\u001b[38;5;34m34,826\u001b[0m (136.04 KB)\n"
            ],
            "text/html": [
              "<pre style=\"white-space:pre;overflow-x:auto;line-height:normal;font-family:Menlo,'DejaVu Sans Mono',consolas,'Courier New',monospace\"><span style=\"font-weight: bold\"> Total params: </span><span style=\"color: #00af00; text-decoration-color: #00af00\">34,826</span> (136.04 KB)\n",
              "</pre>\n"
            ]
          },
          "metadata": {}
        },
        {
          "output_type": "display_data",
          "data": {
            "text/plain": [
              "\u001b[1m Trainable params: \u001b[0m\u001b[38;5;34m34,826\u001b[0m (136.04 KB)\n"
            ],
            "text/html": [
              "<pre style=\"white-space:pre;overflow-x:auto;line-height:normal;font-family:Menlo,'DejaVu Sans Mono',consolas,'Courier New',monospace\"><span style=\"font-weight: bold\"> Trainable params: </span><span style=\"color: #00af00; text-decoration-color: #00af00\">34,826</span> (136.04 KB)\n",
              "</pre>\n"
            ]
          },
          "metadata": {}
        },
        {
          "output_type": "display_data",
          "data": {
            "text/plain": [
              "\u001b[1m Non-trainable params: \u001b[0m\u001b[38;5;34m0\u001b[0m (0.00 B)\n"
            ],
            "text/html": [
              "<pre style=\"white-space:pre;overflow-x:auto;line-height:normal;font-family:Menlo,'DejaVu Sans Mono',consolas,'Courier New',monospace\"><span style=\"font-weight: bold\"> Non-trainable params: </span><span style=\"color: #00af00; text-decoration-color: #00af00\">0</span> (0.00 B)\n",
              "</pre>\n"
            ]
          },
          "metadata": {}
        },
        {
          "output_type": "stream",
          "name": "stdout",
          "text": [
            "Epoch 1/15\n",
            "loss: 0.1618, accuracy: 0.9528\n",
            "Epoch 2/15\n",
            "loss: 0.0876, accuracy: 0.9741\n",
            "Epoch 3/15\n",
            "loss: 0.0639, accuracy: 0.9808\n",
            "Epoch 4/15\n",
            "loss: 0.0517, accuracy: 0.9844\n",
            "Epoch 5/15\n",
            "loss: 0.0446, accuracy: 0.9867\n",
            "Epoch 6/15\n",
            "loss: 0.0410, accuracy: 0.9876\n",
            "Epoch 7/15\n",
            "loss: 0.0346, accuracy: 0.9895\n",
            "Epoch 8/15\n",
            "loss: 0.0338, accuracy: 0.9897\n",
            "Epoch 9/15\n",
            "loss: 0.0316, accuracy: 0.9905\n",
            "Epoch 10/15\n",
            "loss: 0.0298, accuracy: 0.9907\n",
            "Epoch 11/15\n",
            "loss: 0.0267, accuracy: 0.9918\n",
            "Epoch 12/15\n",
            "loss: 0.0243, accuracy: 0.9927\n",
            "Epoch 13/15\n",
            "loss: 0.0228, accuracy: 0.9928\n",
            "Epoch 14/15\n",
            "loss: 0.0220, accuracy: 0.9930\n",
            "Epoch 15/15\n",
            "loss: 0.0208, accuracy: 0.9935\n",
            "Test loss: 0.0271, Test accuracy: 0.9906\n"
          ]
        }
      ],
      "source": [
        "import numpy as np\n",
        "import tensorflow as tf\n",
        "from tensorflow import keras\n",
        "from tensorflow.keras import layers\n",
        "\n",
        "# Model / data parameters\n",
        "num_classes = 10\n",
        "input_shape = (28, 28, 1)\n",
        "\n",
        "# Load the data and split it between train and test sets\n",
        "(x_train, y_train), (x_test, y_test) = keras.datasets.mnist.load_data()\n",
        "\n",
        "# Scale images to the [0, 1] range\n",
        "x_train = x_train.astype(\"float32\") / 255\n",
        "x_test = x_test.astype(\"float32\") / 255\n",
        "# Make sure images have shape (28, 28, 1)\n",
        "x_train = np.expand_dims(x_train, -1)\n",
        "x_test = np.expand_dims(x_test, -1)\n",
        "print(\"x_train shape:\", x_train.shape)\n",
        "print(x_train.shape[0], \"train samples\")\n",
        "print(x_test.shape[0], \"test samples\")\n",
        "\n",
        "# Convert class vectors to binary class matrices\n",
        "y_train = keras.utils.to_categorical(y_train, num_classes)\n",
        "y_test = keras.utils.to_categorical(y_test, num_classes)\n",
        "\n",
        "# Define the model\n",
        "model = keras.Sequential(\n",
        "    [\n",
        "        keras.Input(shape=input_shape),\n",
        "        layers.Conv2D(32, kernel_size=(3, 3), activation=\"relu\"),\n",
        "        layers.MaxPooling2D(pool_size=(2, 2)),\n",
        "        layers.Conv2D(64, kernel_size=(3, 3), activation=\"relu\"),\n",
        "        layers.MaxPooling2D(pool_size=(2, 2)),\n",
        "        layers.Flatten(),\n",
        "        layers.Dropout(0.5),\n",
        "        layers.Dense(num_classes, activation=\"softmax\"),\n",
        "    ]\n",
        ")\n",
        "\n",
        "model.summary()\n",
        "\n",
        "# Initialize Adam parameters\n",
        "beta1 = tf.constant(0.9, dtype=tf.float32)\n",
        "beta2 = tf.constant(0.999, dtype=tf.float32)\n",
        "epsilon = tf.constant(1e-7, dtype=tf.float32)\n",
        "initial_learning_rate = tf.constant(0.001, dtype=tf.float32)\n",
        "\n",
        "# Custom training step function with optimized gradient direction and Adam update\n",
        "@tf.function\n",
        "def train_step(model, x_batch, y_batch, learning_rate, m, v, t):\n",
        "    gradients_per_sample = []\n",
        "\n",
        "    # Loop over each sample in the batch\n",
        "    for i in range(len(x_batch)):\n",
        "        with tf.GradientTape() as tape:\n",
        "            # Expand dimensions of the input sample to match batch format\n",
        "            x_sample = tf.expand_dims(x_batch[i], axis=0)\n",
        "            y_sample = tf.expand_dims(y_batch[i], axis=0)\n",
        "\n",
        "            # Forward pass\n",
        "            predictions = model(x_sample, training=True)\n",
        "            loss = tf.keras.losses.categorical_crossentropy(y_sample, predictions)\n",
        "\n",
        "        # Compute gradients for this sample\n",
        "        grads = tape.gradient(loss, model.trainable_variables)\n",
        "        grads = [g for g in grads if g is not None]  # Filter out None gradients\n",
        "        if grads:\n",
        "            grads_flattened = tf.concat([tf.reshape(g, [-1]) for g in grads], axis=0)\n",
        "            gradients_per_sample.append(grads_flattened)\n",
        "\n",
        "    if not gradients_per_sample:\n",
        "        return m, v, t  # 如果没有有效的梯度，则跳过这个批次\n",
        "\n",
        "    gradients_per_sample = tf.stack(gradients_per_sample)\n",
        "\n",
        "    # 找到与大多数样本梯度方向一致的方向 d\n",
        "    d = tf.reduce_mean(gradients_per_sample, axis=0)\n",
        "    sign_sums = tf.reduce_sum(tf.sign(tf.tensordot(gradients_per_sample, d, axes=[[1], [0]])))\n",
        "\n",
        "    # 优化 d 的方向，尝试找到更好的方向\n",
        "    max_iterations = 100\n",
        "\n",
        "    for _ in range(max_iterations):\n",
        "        d_try = d + tf.random.normal(d.shape) * learning_rate\n",
        "        sign_sums_try = tf.reduce_sum(tf.sign(tf.tensordot(gradients_per_sample, d_try, axes=[[1], [0]])))\n",
        "        if sign_sums_try > sign_sums:\n",
        "            d = d_try\n",
        "            sign_sums = sign_sums_try\n",
        "\n",
        "    # 创建 m 和 v 的副本以避免修改输入参数\n",
        "    m_new = [tf.identity(m_i) for m_i in m]\n",
        "    v_new = [tf.identity(v_i) for v_i in v]\n",
        "\n",
        "    # 用找到的 d 方向更新权重\n",
        "    start_idx = 0\n",
        "    t = tf.cast(t, tf.float32) + 1  # 更新时间步长，并转换为 float32\n",
        "    learning_rate_t = learning_rate * tf.sqrt(1 - beta2**t) / (1 - beta1**t)  # 动态学习率\n",
        "\n",
        "    for j, var in enumerate(model.trainable_variables):\n",
        "        shape = tf.shape(var)\n",
        "        size = tf.reduce_prod(shape)\n",
        "        var_grad = tf.reshape(d[start_idx:start_idx + size], shape)\n",
        "\n",
        "        # Update biased first moment estimate\n",
        "        m_new[j] = beta1 * m_new[j] + (1.0 - beta1) * var_grad\n",
        "\n",
        "        # Update biased second raw moment estimate\n",
        "        v_new[j] = beta2 * v_new[j] + (1.0 - beta2) * tf.square(var_grad)\n",
        "\n",
        "        # Compute bias-corrected first moment estimate\n",
        "        m_hat = m_new[j] / (1.0 - beta1**t)\n",
        "\n",
        "        # Compute bias-corrected second raw moment estimate\n",
        "        v_hat = v_new[j] / (1.0 - beta2**t)\n",
        "\n",
        "        # Update parameters\n",
        "        var.assign_sub(learning_rate_t * m_hat / (tf.sqrt(v_hat) + epsilon))\n",
        "\n",
        "        start_idx += size\n",
        "\n",
        "    return m_new, v_new, tf.cast(t, tf.int32)\n",
        "\n",
        "# Custom training loop\n",
        "batch_size = 128\n",
        "epochs = 15\n",
        "\n",
        "# Initialize the moments and time step\n",
        "m = [tf.zeros_like(var) for var in model.trainable_variables]\n",
        "v = [tf.zeros_like(var) for var in model.trainable_variables]\n",
        "t = 0\n",
        "\n",
        "# Training loop\n",
        "for epoch in range(epochs):\n",
        "    print(f\"Epoch {epoch + 1}/{epochs}\")\n",
        "    num_batches = x_train.shape[0] // batch_size\n",
        "    for i in range(0, x_train.shape[0], batch_size):\n",
        "        x_batch = x_train[i:i+batch_size]\n",
        "        y_batch = y_train[i:i+batch_size]\n",
        "        m, v, t = train_step(model, x_batch, y_batch, initial_learning_rate, m, v, t)\n",
        "\n",
        "    # 在每个epoch结束时进行验证\n",
        "    model.compile(loss=\"categorical_crossentropy\", optimizer=\"adam\", metrics=[\"accuracy\"])\n",
        "    loss, accuracy = model.evaluate(x_train, y_train, verbose=0)\n",
        "    print(f\"loss: {loss:.4f}, accuracy: {accuracy:.4f}\")\n",
        "\n",
        "# 最后评估模型在测试数据上的表现\n",
        "test_loss, test_acc = model.evaluate(x_test, y_test, verbose=0)\n",
        "print(f\"Test loss: {test_loss:.4f}, Test accuracy: {test_acc:.4f}\")\n"
      ]
    }
  ],
  "metadata": {
    "accelerator": "GPU",
    "colab": {
      "gpuType": "T4",
      "provenance": []
    },
    "kernelspec": {
      "display_name": "Python 3",
      "name": "python3"
    },
    "language_info": {
      "name": "python"
    }
  },
  "nbformat": 4,
  "nbformat_minor": 0
}